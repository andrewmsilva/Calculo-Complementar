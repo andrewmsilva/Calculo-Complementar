{
  "nbformat": 4,
  "nbformat_minor": 0,
  "metadata": {
    "colab": {
      "name": "Prova Cálculo Complementar.ipynb",
      "provenance": [],
      "collapsed_sections": []
    },
    "kernelspec": {
      "name": "python3",
      "display_name": "Python 3"
    }
  },
  "cells": [
    {
      "cell_type": "markdown",
      "metadata": {
        "id": "AYhqsUKL-TZ0",
        "colab_type": "text"
      },
      "source": [
        "# Carregando dependências"
      ]
    },
    {
      "cell_type": "code",
      "metadata": {
        "id": "msL7QBNN-Q40",
        "colab_type": "code",
        "colab": {}
      },
      "source": [
        "import numpy as np\n",
        "import sympy as sp"
      ],
      "execution_count": 0,
      "outputs": []
    },
    {
      "cell_type": "markdown",
      "metadata": {
        "id": "HAo6F6yy9VdJ",
        "colab_type": "text"
      },
      "source": [
        "# Problema 1\n",
        "\n",
        "Estima-se que a produção semanal de uma fábrica é dada pela função f(x,\n",
        "y) = 1.200x+ 500y+ x²y – x³– y² unidades, onde x é o número de operários\n",
        "especializados e y o número de operários não especializados utilizados no trabalho. No momento, a mão de obra disponível é constituída por 30 operários especializados e 60 operários não especializados. Use a análise marginal para estimar a variação da produção se mais 1 operário especializado for contratado e o número de operários não especializado permanecer constante."
      ]
    },
    {
      "cell_type": "code",
      "metadata": {
        "id": "JCkQ2i4f9YTx",
        "colab_type": "code",
        "outputId": "113d7657-9d9e-41cf-eb85-caaa360b9ba9",
        "colab": {
          "base_uri": "https://localhost:8080/",
          "height": 51
        }
      },
      "source": [
        "# Análise marginal\n",
        "x_symbol, y_symbol = sp.symbols('x y')\n",
        "f = 1200*x_symbol + 500*y_symbol + x_symbol**2*y_symbol - x_symbol**3 - y_symbol**2\n",
        "\n",
        "f_linha = sp.diff(f, x_symbol)\n",
        "z = lambda x, y: eval(str(f_linha))\n",
        "print('Análise marginal:', z(30, 60))\n",
        "\n",
        "# Taxa de variação\n",
        "fx = lambda x, y: 1200*x + 500*y + x**2*y - x**3 - y**2\n",
        "print('Taxa de variação:', fx(30+1, 60)-fx(30, 60))"
      ],
      "execution_count": 82,
      "outputs": [
        {
          "output_type": "stream",
          "text": [
            "Análise marginal: 2100\n",
            "Taxa de variação: 2069\n"
          ],
          "name": "stdout"
        }
      ]
    },
    {
      "cell_type": "markdown",
      "metadata": {
        "id": "uw4uuIqZPKgp",
        "colab_type": "text"
      },
      "source": [
        "# Problema 2\n",
        "Um empresário calcula que, quando unidades de um certo produto são fabricadas, o lucro é dado por f(x) = - 400x²+ 6.800x-12.000 reais. Qual é a taxa de variação do lucro em relação ao nível de produção x quando estão sendo produzidas 9.000 unidades? Justifique a resposta."
      ]
    },
    {
      "cell_type": "code",
      "metadata": {
        "id": "FB_-e-yVPw7Q",
        "colab_type": "code",
        "outputId": "d9f30ad0-cd56-4e87-a4a8-e22c3853a4fb",
        "colab": {
          "base_uri": "https://localhost:8080/",
          "height": 68
        }
      },
      "source": [
        "f = -400*x_symbol**2+ 6800*x_symbol-12000\n",
        "f_linha = sp.diff(f, x_symbol)\n",
        "print('Derivada:', f_linha)\n",
        "taxa = lambda x: eval(str(f_linha))\n",
        "print('Taxa:', taxa(9000))\n",
        "\n",
        "# Provando\n",
        "fx = lambda x: -400*x**2+ 6800*x-12000\n",
        "print('Prova:', fx(9001)-fx(9000))"
      ],
      "execution_count": 83,
      "outputs": [
        {
          "output_type": "stream",
          "text": [
            "Derivada: -800*x + 6800\n",
            "Taxa: -7193200\n",
            "Prova: -7193600\n"
          ],
          "name": "stdout"
        }
      ]
    },
    {
      "cell_type": "markdown",
      "metadata": {
        "id": "TUXElRszSKON",
        "colab_type": "text"
      },
      "source": [
        "**Justificativa**: ao aplicar a derivada na função de lucro, obtém-se uma função que representa a variação do lucro. Aplicando as 9.000 unidades produzidas nesta função, o resultado é -7193200, o qual é muito próximo à diferença entre os lucros de produções de 9.001 e 9.000 unidades. Portanto, é possível afirmar que a acurácia da solução está boa e que a produção de 9.000 unidades gera prejuízos."
      ]
    },
    {
      "cell_type": "markdown",
      "metadata": {
        "id": "LW9ksgSfUjHt",
        "colab_type": "text"
      },
      "source": [
        "# Problema 3\n",
        "ÁREA SUPERFICIAL DO CORPO HUMANO É dada pela expressão empírica S(W, H) = 0,0072W^0,425*H^0,725, onde W (Kg) e H(cm), são, respectivamente, o peso e a altura da pessoa. No momento, uma certa criança pesa 34Kg e tem 1m e 20cm de altura. "
      ]
    },
    {
      "cell_type": "code",
      "metadata": {
        "id": "XyhuCPVgU2Wt",
        "colab_type": "code",
        "outputId": "8952c934-487d-4112-a2e0-4474bae1ad0f",
        "colab": {
          "base_uri": "https://localhost:8080/",
          "height": 102
        }
      },
      "source": [
        "# Dados do problema\n",
        "w = 34\n",
        "h = 120\n",
        "\n",
        "# Calculando taxas de variação\n",
        "w_symbol, h_symbol = sp.symbols('w h')\n",
        "f = 0.0072*w_symbol**0.425*h_symbol**0.725\n",
        "\n",
        "f_w = sp.diff(f, w_symbol)\n",
        "print('Derivada parcial em w:', f_w)\n",
        "taxa_w = lambda w, h: eval(str(f_w))\n",
        "print('Variação:', taxa_w(50, 163))\n",
        "\n",
        "f_h = sp.diff(f, h_symbol)\n",
        "print('Derivada parcial em h:', f_h)\n",
        "taxa_h = lambda w, h: eval(str(f_h))\n",
        "print('Variação:', taxa_h(50, 163))\n",
        "\n",
        "# Criança que engordou\n",
        "print('Variação da área superficial da criança que engordou:', taxa_w(w+1, h))"
      ],
      "execution_count": 84,
      "outputs": [
        {
          "output_type": "stream",
          "text": [
            "Derivada parcial em w: 0.00306*h**0.725*w**(-0.575)\n",
            "Variação: 0.01296133355545553\n",
            "Derivada parcial em h: 0.00522*h**(-0.275)*w**0.425\n",
            "Variação: 0.00678236508675948\n",
            "Variação da área superficial da criança que engordou: 0.012743499444844668\n"
          ],
          "name": "stdout"
        }
      ]
    },
    {
      "cell_type": "markdown",
      "metadata": {
        "id": "X0AV6YOoYprA",
        "colab_type": "text"
      },
      "source": [
        "**Análise**: como a variação da área superficial da criança que engordou é positiva e acima de zero, é possível afirmar que a área superficial dela aumentou quando ela engordou."
      ]
    }
  ]
}